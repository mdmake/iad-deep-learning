{
  "cells": [
    {
      "cell_type": "markdown",
      "metadata": {
        "id": "kcG9CChdfOmT"
      },
      "source": [
        "## Вступление\n",
        "\n",
        "Всем привет! На сегодняшнем семинаре мы познакомимся с библиотекой **pytorch**. Он очень похож на numpy, с одним лишь отличием (на самом деле их больше, но сейчас мы поговорим про самое главное) -- pytorch может считать градиенты за вас. Таким образом вам не надо будет руками писать обратный проход в нейросетях. \n",
        "\n",
        "#### Семинар построен следующим образом:\n",
        "\n",
        "1. Вспоминаем numpy и сравниваем операции в pytorch\n",
        "2. Создаем тензоры в pytorch\n",
        "3. Работаем с градиентами руками\n",
        "4. Моя первая нейросеть "
      ]
    },
    {
      "cell_type": "markdown",
      "metadata": {
        "id": "zKryHSSOfOmW"
      },
      "source": [
        "### Вспоминаем numpy и сравниваем операции в pytorch\n",
        "\n",
        "Мы можем создавать матрицы, перемножать их, складывать, транспонировать и в целом совершать любые матричные операции"
      ]
    },
    {
      "cell_type": "code",
      "execution_count": 4,
      "metadata": {
        "id": "dF5qVZrSfOmW"
      },
      "outputs": [],
      "source": [
        "import matplotlib.pyplot as plt\n",
        "import numpy as np\n",
        "import torch\n",
        "import torch.nn as nn\n",
        "import torch.nn.functional as F\n",
        "import torchvision\n",
        "#from sklearn.datasets import load_boston\n",
        "from tqdm.notebook import tqdm\n",
        "import pandas as pd\n",
        "%matplotlib inline"
      ]
    },
    {
      "cell_type": "code",
      "source": [
        "data_url = \"http://lib.stat.cmu.edu/datasets/boston\"\n",
        "raw_df = pd.read_csv(data_url, sep=\"\\s+\", skiprows=22, header=None)\n",
        "data = np.hstack([raw_df.values[::2, :], raw_df.values[1::2, :2]])\n",
        "target = raw_df.values[1::2, 2]\n",
        "\n",
        "class cboston:\n",
        "  def __init__(self):\n",
        "    pass\n",
        "\n",
        "boston = cboston()\n",
        "boston.data = data\n",
        "boston.target = target"
      ],
      "metadata": {
        "id": "LCy645BTiX5_"
      },
      "execution_count": 5,
      "outputs": []
    },
    {
      "cell_type": "code",
      "execution_count": 6,
      "metadata": {
        "id": "fPCF7E9CfOmX",
        "outputId": "91fcdf64-a902-4c25-d3e1-dddc2d10e3c5",
        "colab": {
          "base_uri": "https://localhost:8080/"
        }
      },
      "outputs": [
        {
          "output_type": "execute_result",
          "data": {
            "text/plain": [
              "array([[0.69764375, 0.20876896, 0.81654059],\n",
              "       [0.57228476, 0.33930408, 0.0239226 ],\n",
              "       [0.69239348, 0.68602422, 0.63618793],\n",
              "       [0.60922163, 0.49264243, 0.9603266 ],\n",
              "       [0.28140553, 0.12668433, 0.3158631 ]])"
            ]
          },
          "metadata": {},
          "execution_count": 6
        }
      ],
      "source": [
        "a = np.random.rand(5, 3)  # создали случайную матрицу\n",
        "a"
      ]
    },
    {
      "cell_type": "code",
      "execution_count": 7,
      "metadata": {
        "id": "pt7xovKWfOmY",
        "outputId": "27065653-e5cc-44b5-ec60-0fd068bf1a73",
        "colab": {
          "base_uri": "https://localhost:8080/"
        }
      },
      "outputs": [
        {
          "output_type": "stream",
          "name": "stdout",
          "text": [
            "Проверили размеры : (5, 3)\n",
            "\n"
          ]
        }
      ],
      "source": [
        "print(\"Проверили размеры : %s\\n\" % (a.shape,))"
      ]
    },
    {
      "cell_type": "code",
      "execution_count": 8,
      "metadata": {
        "id": "ndaVzftFfOmY",
        "outputId": "3b314369-5655-4bd8-d4f5-37f875940c2b",
        "colab": {
          "base_uri": "https://localhost:8080/"
        }
      },
      "outputs": [
        {
          "output_type": "stream",
          "name": "stdout",
          "text": [
            "Добавили 5 :\n",
            "[[5.69764375 5.20876896 5.81654059]\n",
            " [5.57228476 5.33930408 5.0239226 ]\n",
            " [5.69239348 5.68602422 5.63618793]\n",
            " [5.60922163 5.49264243 5.9603266 ]\n",
            " [5.28140553 5.12668433 5.3158631 ]]\n",
            "\n"
          ]
        }
      ],
      "source": [
        "print(\"Добавили 5 :\\n%s\\n\" % (a + 5))"
      ]
    },
    {
      "cell_type": "code",
      "execution_count": 9,
      "metadata": {
        "id": "BOxsml9DfOmY",
        "outputId": "45cfa1a0-a322-4722-d082-c278b02df9b2",
        "colab": {
          "base_uri": "https://localhost:8080/"
        }
      },
      "outputs": [
        {
          "output_type": "stream",
          "name": "stdout",
          "text": [
            "X*X^T  :\n",
            "[[1.19702981 0.48962082 1.14573781 1.31201376 0.4806836 ]\n",
            " [0.48962082 0.4432094  0.64423632 0.53877736 0.21158487]\n",
            " [1.14573781 0.64423632 1.35477304 1.37073392 0.48270016]\n",
            " [1.31201376 0.53877736 1.37073392 1.53607475 0.53718015]\n",
            " [0.4806836  0.21158487 0.48270016 0.53718015 0.19500749]]\n",
            "\n"
          ]
        }
      ],
      "source": [
        "print(\"X*X^T  :\\n%s\\n\" % np.dot(a, a.T))"
      ]
    },
    {
      "cell_type": "code",
      "execution_count": 11,
      "metadata": {
        "id": "dkbNnoD5fOmY",
        "outputId": "e46e4b8e-4169-4320-c7cf-0bb172790559",
        "colab": {
          "base_uri": "https://localhost:8080/"
        }
      },
      "outputs": [
        {
          "output_type": "stream",
          "name": "stdout",
          "text": [
            "Среднее по колонкам :\n",
            "[0.57431777 0.31183715 0.67153521 0.68739689 0.24131765]\n",
            "\n"
          ]
        }
      ],
      "source": [
        "print(\"Среднее по колонкам :\\n%s\\n\" % (a.mean(axis=-1)))"
      ]
    },
    {
      "cell_type": "code",
      "execution_count": 12,
      "metadata": {
        "id": "1zAW9SqcfOmZ",
        "outputId": "ab9a8ffa-30ed-4d45-920a-5556dff69c7c",
        "colab": {
          "base_uri": "https://localhost:8080/"
        }
      },
      "outputs": [
        {
          "output_type": "stream",
          "name": "stdout",
          "text": [
            "Изменили размеры :\n",
            "(3, 5)\n",
            "\n"
          ]
        }
      ],
      "source": [
        "print(\"Изменили размеры :\\n%s\\n\" % (a.reshape(3, 5).shape,))"
      ]
    },
    {
      "cell_type": "markdown",
      "metadata": {
        "id": "005eFCKKfOmZ"
      },
      "source": [
        "## Разминка.\n",
        "\n",
        "При помощи numpy посчитайте сумму квадратов натуральных чисел от 1 до 10000."
      ]
    },
    {
      "cell_type": "code",
      "execution_count": null,
      "metadata": {
        "id": "P6JvZyQafOmZ"
      },
      "outputs": [],
      "source": [
        "# YOUR CODE"
      ]
    },
    {
      "cell_type": "markdown",
      "metadata": {
        "id": "FPhS1uVzfOmZ"
      },
      "source": [
        "Аналогичные операции в **pytorch** выглядят следующим образом, синтаксис отличается, но совсем немного:"
      ]
    },
    {
      "cell_type": "code",
      "execution_count": 13,
      "metadata": {
        "id": "NKx6FYDkfOmZ",
        "outputId": "562314b6-efb6-4ede-8d1a-875d3a2520f2",
        "colab": {
          "base_uri": "https://localhost:8080/"
        }
      },
      "outputs": [
        {
          "output_type": "execute_result",
          "data": {
            "text/plain": [
              "tensor([[0.2519, 0.7163, 0.1533],\n",
              "        [0.1133, 0.6384, 0.1483],\n",
              "        [0.7525, 0.1250, 0.4048],\n",
              "        [0.1552, 0.2925, 0.0397],\n",
              "        [0.4444, 0.2711, 0.3425]])"
            ]
          },
          "metadata": {},
          "execution_count": 13
        }
      ],
      "source": [
        "x = torch.rand(5, 3)\n",
        "x"
      ]
    },
    {
      "cell_type": "code",
      "execution_count": 14,
      "metadata": {
        "id": "2rO81pe0fOma",
        "outputId": "9b080012-eee5-46f7-e1e9-9a72fb3c7e76",
        "colab": {
          "base_uri": "https://localhost:8080/"
        }
      },
      "outputs": [
        {
          "output_type": "stream",
          "name": "stdout",
          "text": [
            "Проверили размеры : torch.Size([5, 3])\n",
            "\n"
          ]
        }
      ],
      "source": [
        "print(\"Проверили размеры : %s\\n\" % (x.shape,))"
      ]
    },
    {
      "cell_type": "code",
      "execution_count": 15,
      "metadata": {
        "id": "pDwN02WEfOma",
        "outputId": "52df5969-3a28-4488-8dc1-825e5beef7d3",
        "colab": {
          "base_uri": "https://localhost:8080/"
        }
      },
      "outputs": [
        {
          "output_type": "stream",
          "name": "stdout",
          "text": [
            "Добавили 5 :\n",
            "tensor([[5.2519, 5.7163, 5.1533],\n",
            "        [5.1133, 5.6384, 5.1483],\n",
            "        [5.7525, 5.1250, 5.4048],\n",
            "        [5.1552, 5.2925, 5.0397],\n",
            "        [5.4444, 5.2711, 5.3425]])\n",
            "\n"
          ]
        }
      ],
      "source": [
        "print(\"Добавили 5 :\\n%s\\n\" % (x + 5))"
      ]
    },
    {
      "cell_type": "code",
      "execution_count": 16,
      "metadata": {
        "id": "UX11QaSVfOma",
        "outputId": "08087870-bc67-4f84-b111-354e266bddf1",
        "colab": {
          "base_uri": "https://localhost:8080/"
        }
      },
      "outputs": [
        {
          "output_type": "stream",
          "name": "stdout",
          "text": [
            "X*X^T  (1):\n",
            "tensor([[0.6000, 0.5086, 0.3411, 0.2547, 0.3586],\n",
            "        [0.5086, 0.4424, 0.2251, 0.2102, 0.2742],\n",
            "        [0.3411, 0.2251, 0.7457, 0.1694, 0.5070],\n",
            "        [0.2547, 0.2102, 0.1694, 0.1112, 0.1619],\n",
            "        [0.3586, 0.2742, 0.5070, 0.1619, 0.3883]])\n",
            "\n",
            "X*X^T  (2):\n",
            "tensor([[0.6000, 0.5086, 0.3411, 0.2547, 0.3586],\n",
            "        [0.5086, 0.4424, 0.2251, 0.2102, 0.2742],\n",
            "        [0.3411, 0.2251, 0.7457, 0.1694, 0.5070],\n",
            "        [0.2547, 0.2102, 0.1694, 0.1112, 0.1619],\n",
            "        [0.3586, 0.2742, 0.5070, 0.1619, 0.3883]])\n",
            "\n"
          ]
        }
      ],
      "source": [
        "print(\"X*X^T  (1):\\n%s\\n\" % (torch.matmul(x, x.transpose(1, 0))))\n",
        "print(\"X*X^T  (2):\\n%s\\n\" % (x.mm(x.t())))"
      ]
    },
    {
      "cell_type": "code",
      "execution_count": 17,
      "metadata": {
        "id": "OBdcw81lfOma",
        "outputId": "584d73b0-8096-4c45-aac8-f728f21d3a68",
        "colab": {
          "base_uri": "https://localhost:8080/"
        }
      },
      "outputs": [
        {
          "output_type": "stream",
          "name": "stdout",
          "text": [
            "Среднее по колонкам :\n",
            "tensor([0.3738, 0.3000, 0.4274, 0.1625, 0.3527])\n",
            "\n"
          ]
        }
      ],
      "source": [
        "print(\"Среднее по колонкам :\\n%s\\n\" % (x.mean(dim=-1)))"
      ]
    },
    {
      "cell_type": "code",
      "execution_count": 18,
      "metadata": {
        "id": "ctEuA6MlfOma",
        "outputId": "2fee929b-62ed-4cce-ab46-ca8630352c6c",
        "colab": {
          "base_uri": "https://localhost:8080/"
        }
      },
      "outputs": [
        {
          "output_type": "stream",
          "name": "stdout",
          "text": [
            "Изменили размеры :\n",
            "torch.Size([3, 5])\n",
            "\n",
            "Изменили размеры :\n",
            "torch.Size([3, 5])\n",
            "\n"
          ]
        }
      ],
      "source": [
        "print(\"Изменили размеры :\\n%s\\n\" % (x.view([3, 5]).shape,))\n",
        "print(\"Изменили размеры :\\n%s\\n\" % (x.view_as(x.t()).shape,))"
      ]
    },
    {
      "cell_type": "markdown",
      "metadata": {
        "id": "l-02Oh6ffOmb"
      },
      "source": [
        "Небольшой пример того, как меняются операции:\n",
        "\n",
        "* `x.reshape([1,2,8]) -> x.view(1,2,8)`\n",
        "\n",
        "* `x.sum(axis=-1) -> x.sum(dim=-1)`\n",
        "\n",
        "* `x.astype('int64') -> x.type(torch.LongTensor)`\n",
        "\n",
        "Для помощи вам есть [таблица](https://github.com/torch/torch7/wiki/Torch-for-Numpy-users), которая поможет вам найти аналог операции в numpy\n"
      ]
    },
    {
      "cell_type": "markdown",
      "metadata": {
        "id": "ZqEksJ3sfOmb"
      },
      "source": [
        "### Разминка на PyTorch\n",
        "\n",
        "При помощи pytorch посчитайте сумму квадратов натуральных чисел от 1 до 10000."
      ]
    },
    {
      "cell_type": "code",
      "execution_count": 19,
      "metadata": {
        "id": "P1jbhYkFfOmb"
      },
      "outputs": [],
      "source": [
        "# YOUR CODE"
      ]
    },
    {
      "cell_type": "markdown",
      "metadata": {
        "id": "2bEC8kvofOmb"
      },
      "source": [
        "### Создаем тензоры в pytorch и снова изучаем базовые операции"
      ]
    },
    {
      "cell_type": "code",
      "execution_count": 20,
      "metadata": {
        "id": "Dgs3wyEhfOmb",
        "outputId": "e25091f1-d039-4306-da89-d72ed9b4f452",
        "colab": {
          "base_uri": "https://localhost:8080/"
        }
      },
      "outputs": [
        {
          "output_type": "stream",
          "name": "stdout",
          "text": [
            "tensor([[4.8215e-34, 0.0000e+00, 0.0000e+00],\n",
            "        [0.0000e+00, 9.6948e-34, 0.0000e+00],\n",
            "        [1.2756e-35, 0.0000e+00, 6.9318e-34],\n",
            "        [4.5565e-41, 0.0000e+00, 0.0000e+00],\n",
            "        [0.0000e+00, 0.0000e+00, 0.0000e+00]])\n"
          ]
        }
      ],
      "source": [
        "x = torch.empty(5, 3)  # пустой тензор\n",
        "print(x)"
      ]
    },
    {
      "cell_type": "code",
      "execution_count": 21,
      "metadata": {
        "id": "-WMaNN2EfOmc",
        "outputId": "a4888ec7-e0f2-4f7f-98d1-9f860547d7a0",
        "colab": {
          "base_uri": "https://localhost:8080/"
        }
      },
      "outputs": [
        {
          "output_type": "stream",
          "name": "stdout",
          "text": [
            "tensor([[0.6857, 0.7869, 0.3561],\n",
            "        [0.7558, 0.1292, 0.0452],\n",
            "        [0.8185, 0.3691, 0.2553],\n",
            "        [0.8601, 0.6378, 0.5560],\n",
            "        [0.4082, 0.5713, 0.0493]])\n"
          ]
        }
      ],
      "source": [
        "x = torch.rand(5, 3)  # тензор со случайными числами\n",
        "print(x)"
      ]
    },
    {
      "cell_type": "code",
      "execution_count": 22,
      "metadata": {
        "id": "eTycyYt3fOmc",
        "outputId": "a009c715-9b90-48db-b36b-f4f1cfdaed6f",
        "colab": {
          "base_uri": "https://localhost:8080/"
        }
      },
      "outputs": [
        {
          "output_type": "stream",
          "name": "stdout",
          "text": [
            "tensor([[0, 0, 0],\n",
            "        [0, 0, 0],\n",
            "        [0, 0, 0],\n",
            "        [0, 0, 0],\n",
            "        [0, 0, 0]])\n"
          ]
        }
      ],
      "source": [
        "x = torch.zeros(5, 3, dtype=torch.long)  # тензор с нулями и указанием типов чисел\n",
        "print(x)"
      ]
    },
    {
      "cell_type": "code",
      "execution_count": 23,
      "metadata": {
        "id": "ISHS3lH7fOmc",
        "outputId": "be21c0a6-ba8f-409e-8ea6-80036eb50470",
        "colab": {
          "base_uri": "https://localhost:8080/"
        }
      },
      "outputs": [
        {
          "output_type": "stream",
          "name": "stdout",
          "text": [
            "tensor([5.5000, 3.0000])\n"
          ]
        }
      ],
      "source": [
        "x = torch.tensor([5.5, 3])  # конструируем тензор из питоновского листа\n",
        "print(x)"
      ]
    },
    {
      "cell_type": "code",
      "execution_count": 24,
      "metadata": {
        "id": "yBn9eHgLfOmc",
        "outputId": "752c8167-a79c-4274-c61e-37c6b385ddd0",
        "colab": {
          "base_uri": "https://localhost:8080/"
        }
      },
      "outputs": [
        {
          "output_type": "stream",
          "name": "stdout",
          "text": [
            "tensor([[1., 1., 1.],\n",
            "        [1., 1., 1.],\n",
            "        [1., 1., 1.],\n",
            "        [1., 1., 1.],\n",
            "        [1., 1., 1.]], dtype=torch.float64) torch.Size([5, 3])\n"
          ]
        }
      ],
      "source": [
        "x = x.new_ones(\n",
        "    5, 3, dtype=torch.double\n",
        ")  # используем уже созданный тензор для создания тензора из единичек\n",
        "print(x, x.size())"
      ]
    },
    {
      "cell_type": "code",
      "execution_count": 25,
      "metadata": {
        "id": "2RqJ3z3qfOmc",
        "outputId": "088fd681-d600-448c-920a-6ef3e21ce47d",
        "colab": {
          "base_uri": "https://localhost:8080/"
        }
      },
      "outputs": [
        {
          "output_type": "stream",
          "name": "stdout",
          "text": [
            "tensor([[-1.4030,  2.0052,  0.9135],\n",
            "        [ 1.3142,  0.5466, -1.4009],\n",
            "        [ 0.1659,  0.3284,  0.0364],\n",
            "        [ 0.2861,  0.3521, -1.3629],\n",
            "        [ 0.7838, -0.5313, -0.6973]]) torch.Size([5, 3])\n"
          ]
        }
      ],
      "source": [
        "x = torch.randn_like(x, dtype=torch.float)  # создаем матрицу с размерами как у x\n",
        "print(x, x.size())"
      ]
    },
    {
      "cell_type": "code",
      "execution_count": 26,
      "metadata": {
        "id": "xwtk6wLgfOmc",
        "outputId": "c97349f0-1289-4f1a-c627-af32de26e1cb",
        "colab": {
          "base_uri": "https://localhost:8080/"
        }
      },
      "outputs": [
        {
          "output_type": "stream",
          "name": "stdout",
          "text": [
            "tensor([[-0.4981,  2.2504,  0.9140],\n",
            "        [ 1.3500,  0.7534, -1.3858],\n",
            "        [ 0.5709,  0.8720,  0.2240],\n",
            "        [ 1.0845,  0.5487, -1.0277],\n",
            "        [ 1.6603,  0.3859,  0.1702]])\n"
          ]
        }
      ],
      "source": [
        "y = torch.rand(5, 3)\n",
        "print(x + y)  # операция сложение"
      ]
    },
    {
      "cell_type": "code",
      "execution_count": 27,
      "metadata": {
        "id": "nAxIlvglfOmc",
        "outputId": "4fdb2e36-95f9-41b5-afb7-c4d386a8e040",
        "colab": {
          "base_uri": "https://localhost:8080/"
        }
      },
      "outputs": [
        {
          "output_type": "stream",
          "name": "stdout",
          "text": [
            "tensor([[-0.4981,  2.2504,  0.9140],\n",
            "        [ 1.3500,  0.7534, -1.3858],\n",
            "        [ 0.5709,  0.8720,  0.2240],\n",
            "        [ 1.0845,  0.5487, -1.0277],\n",
            "        [ 1.6603,  0.3859,  0.1702]])\n"
          ]
        }
      ],
      "source": [
        "z = torch.add(x, y)  # очередная операция сложения\n",
        "print(z)"
      ]
    },
    {
      "cell_type": "code",
      "execution_count": 28,
      "metadata": {
        "id": "uhM1OoVDfOmd",
        "outputId": "e1417a3d-a6bc-4829-c4fa-ac6debb16462",
        "colab": {
          "base_uri": "https://localhost:8080/"
        }
      },
      "outputs": [
        {
          "output_type": "stream",
          "name": "stdout",
          "text": [
            "tensor([[-0.4981,  2.2504,  0.9140],\n",
            "        [ 1.3500,  0.7534, -1.3858],\n",
            "        [ 0.5709,  0.8720,  0.2240],\n",
            "        [ 1.0845,  0.5487, -1.0277],\n",
            "        [ 1.6603,  0.3859,  0.1702]])\n"
          ]
        }
      ],
      "source": [
        "torch.add(x, y, out=z)  # и наконец последний вид\n",
        "print(z)"
      ]
    },
    {
      "cell_type": "code",
      "execution_count": 29,
      "metadata": {
        "id": "4cdj-5XqfOmd",
        "outputId": "260231be-d1a9-4ae2-bb80-187148d245de",
        "colab": {
          "base_uri": "https://localhost:8080/"
        }
      },
      "outputs": [
        {
          "output_type": "stream",
          "name": "stdout",
          "text": [
            "tensor([[-1.2697e+00,  4.9161e-01,  4.1143e-04],\n",
            "        [ 4.7114e-02,  1.1301e-01, -2.1261e-02],\n",
            "        [ 6.7203e-02,  1.7853e-01,  6.8332e-03],\n",
            "        [ 2.2843e-01,  6.9213e-02, -4.5684e-01],\n",
            "        [ 6.8703e-01, -4.8737e-01, -6.0497e-01]])\n"
          ]
        }
      ],
      "source": [
        "print(x * y)  # поэлементное умножение"
      ]
    },
    {
      "cell_type": "code",
      "execution_count": 30,
      "metadata": {
        "id": "ghBAJpVSfOmd",
        "outputId": "b8026946-e47e-4800-96aa-59d57d485c0b",
        "colab": {
          "base_uri": "https://localhost:8080/"
        }
      },
      "outputs": [
        {
          "output_type": "stream",
          "name": "stdout",
          "text": [
            "tensor([[-0.7776,  0.3781,  0.6931, -0.4198,  1.4020],\n",
            "        [ 1.3226,  0.1389,  0.5666,  0.6871,  0.4380],\n",
            "        [ 0.2307,  0.0744,  0.2526,  0.2092,  0.4783],\n",
            "        [ 0.3446,  0.0624,  0.0516, -0.1592, -0.6086],\n",
            "        [ 0.5787, -0.0923, -0.1022,  0.2876, -0.4053]])\n"
          ]
        }
      ],
      "source": [
        "print(x @ y.t())  # матричное умножение"
      ]
    },
    {
      "cell_type": "code",
      "execution_count": 31,
      "metadata": {
        "id": "zADJqHuTfOmd",
        "outputId": "b0f4ebb2-2c1b-4eb4-b2e7-b38d2e9350c3",
        "colab": {
          "base_uri": "https://localhost:8080/"
        }
      },
      "outputs": [
        {
          "output_type": "stream",
          "name": "stdout",
          "text": [
            "tensor([[-0.7776,  0.3781,  0.6931, -0.4198,  1.4020],\n",
            "        [ 1.3226,  0.1389,  0.5666,  0.6871,  0.4380],\n",
            "        [ 0.2307,  0.0744,  0.2526,  0.2092,  0.4783],\n",
            "        [ 0.3446,  0.0624,  0.0516, -0.1592, -0.6086],\n",
            "        [ 0.5787, -0.0923, -0.1022,  0.2876, -0.4053]])\n"
          ]
        }
      ],
      "source": [
        "print(x.mm(y.t()))  # и опять матричное умножение"
      ]
    },
    {
      "cell_type": "code",
      "execution_count": 32,
      "metadata": {
        "id": "9JW0lRpqfOme",
        "outputId": "b0ac5e19-7498-4638-b5d7-3cb8ce346e55",
        "colab": {
          "base_uri": "https://localhost:8080/"
        }
      },
      "outputs": [
        {
          "output_type": "stream",
          "name": "stdout",
          "text": [
            "torch.Size([1, 5, 3])\n"
          ]
        }
      ],
      "source": [
        "print(x.unsqueeze(0).shape)  # добавили измерение в начало, аналог броадкастинга"
      ]
    },
    {
      "cell_type": "code",
      "execution_count": 33,
      "metadata": {
        "id": "B8SGOwBpfOme",
        "outputId": "2e902235-5f7d-4e4f-9f77-dfc09c3225bd",
        "colab": {
          "base_uri": "https://localhost:8080/"
        }
      },
      "outputs": [
        {
          "output_type": "stream",
          "name": "stdout",
          "text": [
            "torch.Size([5, 3])\n"
          ]
        }
      ],
      "source": [
        "print(\n",
        "    x.unsqueeze(0).squeeze(0).shape\n",
        ")  # убрали измерение в начале, аналог броадкастинга"
      ]
    },
    {
      "cell_type": "markdown",
      "metadata": {
        "id": "-d9RGEbQfOme"
      },
      "source": [
        "Мы также можем делать обычные срезы и переводить матрицы назад в numpy:"
      ]
    },
    {
      "cell_type": "code",
      "execution_count": 34,
      "metadata": {
        "id": "arg66FXYfOme",
        "outputId": "5fdc10f9-585e-4073-eb3c-a7c19809f385",
        "colab": {
          "base_uri": "https://localhost:8080/"
        }
      },
      "outputs": [
        {
          "output_type": "stream",
          "name": "stdout",
          "text": [
            "True\n",
            "True\n"
          ]
        }
      ],
      "source": [
        "a = np.ones((3, 5))\n",
        "x = torch.ones((3, 5))\n",
        "print(np.allclose(x.numpy(), a))\n",
        "print(np.allclose(x.numpy()[:, 1], a[:, 1]))"
      ]
    },
    {
      "cell_type": "markdown",
      "metadata": {
        "id": "5ctaYABzfOmf"
      },
      "source": [
        "### Работаем с градиентами руками"
      ]
    },
    {
      "cell_type": "code",
      "execution_count": 35,
      "metadata": {
        "id": "tsqb0ZyjfOmf",
        "outputId": "641d5266-66e5-437c-9239-194dfa3a3206",
        "colab": {
          "base_uri": "https://localhost:8080/",
          "height": 447
        }
      },
      "outputs": [
        {
          "output_type": "execute_result",
          "data": {
            "text/plain": [
              "<matplotlib.collections.PathCollection at 0x7f0408546f80>"
            ]
          },
          "metadata": {},
          "execution_count": 35
        },
        {
          "output_type": "display_data",
          "data": {
            "text/plain": [
              "<Figure size 640x480 with 1 Axes>"
            ],
            "image/png": "[encoded data removed]"
          },
          "metadata": {}
        }
      ],
      "source": [
        "#boston = load_boston()\n",
        "plt.scatter(boston.data[:, -1], boston.target)"
      ]
    },
    {
      "cell_type": "markdown",
      "metadata": {
        "id": "zRw2PNH7fOmg"
      },
      "source": [
        "В pytorch есть возможность при создании тензора указывать нужно ли считать по нему градиент или нет, с помощью параметра `requires_grad`. Когда `requires_grad=True` мы сообщаем фреймворку, о том, что мы хотим следить за всеми тензорами, которые получаются из созданного. Иными словами, у любого тензора, у которого указан данный параметр, будет доступ к цепочке операций и преобразований совершенными с ними. Если эти функции дифференцируемые, то у тензора появляется параметр `.grad`, в котором хранится значение градиента."
      ]
    },
    {
      "cell_type": "markdown",
      "metadata": {
        "id": "xNET8exKfOmg"
      },
      "source": [
        "![torch_grad.png](attachment:torch_grad.png)"
      ]
    },
    {
      "cell_type": "markdown",
      "metadata": {
        "id": "Pekp4za7fOmh"
      },
      "source": [
        "Если к результирующему тензору применить метод `.backward()`, то фреймворк посчитает по цепочке градиенту для всех тензоров, у которых `requires_grad=True`."
      ]
    },
    {
      "cell_type": "code",
      "execution_count": null,
      "metadata": {
        "id": "hNwKvNp9fOmh"
      },
      "outputs": [],
      "source": [
        "w = torch.rand(1, requires_grad=True)\n",
        "b = torch.rand(1, requires_grad=True)\n",
        "\n",
        "x = torch.tensor(boston.data[:, -1] / boston.data[:, -1].max(), dtype=torch.float32)\n",
        "y = torch.tensor(boston.target, dtype=torch.float32)\n",
        "\n",
        "assert w.grad is None  # только создали тензоры и в них нет градиентов\n",
        "assert b.grad is None"
      ]
    },
    {
      "cell_type": "code",
      "execution_count": null,
      "metadata": {
        "id": "aNnd_UX5fOmi"
      },
      "outputs": [],
      "source": [
        "y_pred = w * x + b  # и опять совершаем операции с тензорами\n",
        "loss = torch.mean((y_pred - y) ** 2)  # совершаем операции с тензорами\n",
        "loss.backward()  # считаем градиенты"
      ]
    },
    {
      "cell_type": "code",
      "execution_count": null,
      "metadata": {
        "id": "3031M3C2fOmj"
      },
      "outputs": [],
      "source": [
        "assert (\n",
        "    w.grad is not None\n",
        ")  # сделали операции и посчитали градиенты, значение должно было появится\n",
        "assert b.grad is not None\n",
        "\n",
        "print(\"dL/dw = \\n\", w.grad)\n",
        "print(\"dL/db = \\n\", b.grad)"
      ]
    },
    {
      "cell_type": "markdown",
      "metadata": {
        "id": "Z-og1NC6fOmj"
      },
      "source": [
        "__Ремарка__. Для доступа к значениям в тензоре используйте атрибут `.data`:"
      ]
    },
    {
      "cell_type": "code",
      "execution_count": null,
      "metadata": {
        "id": "bArDWZgLfOmj"
      },
      "outputs": [],
      "source": [
        "w.data"
      ]
    },
    {
      "cell_type": "code",
      "execution_count": null,
      "metadata": {
        "id": "fTzbgqhxfOmk"
      },
      "outputs": [],
      "source": [
        "from IPython.display import clear_output\n",
        "\n",
        "for i in range(100):\n",
        "\n",
        "    y_pred = w * x + b\n",
        "    # попробуйте сделать полиномиальную регрессию в данном предсказании и посчитать градиенты после\n",
        "    loss = torch.mean((y_pred - y)**2)\n",
        "    loss.backward()\n",
        "\n",
        "    # делаем шаг градиентного спуска с lr = .05\n",
        "    w.data -= # YOUR CODE\n",
        "    b.data -= # YOUR CODE\n",
        "\n",
        "    # обнуляем градиенты, чтобы на следующем шаге опять посчитать и не аккумулировать их\n",
        "    w.grad.data.zero_()\n",
        "    b.grad.data.zero_()\n",
        "\n",
        "    # рисуем картинки\n",
        "    if (i+1) % 5 == 0:\n",
        "        clear_output(True)\n",
        "        plt.scatter(x.data.numpy(), y.data.numpy())\n",
        "        plt.scatter(x.data.numpy(), y_pred.data.numpy(),\n",
        "                    color='orange', linewidth=5)\n",
        "        plt.show()\n",
        "\n",
        "        print(\"loss = \", loss.data.numpy())\n",
        "        if loss.data.numpy() < 0.5:\n",
        "            print(\"Done!\")\n",
        "            break"
      ]
    },
    {
      "cell_type": "markdown",
      "metadata": {
        "id": "8641gNRcfOmk"
      },
      "source": [
        "### Моя первая нейросеть"
      ]
    },
    {
      "cell_type": "markdown",
      "metadata": {
        "id": "SIadB4slfOmk"
      },
      "source": [
        "Для того, чтобы разобраться как обучать нейросите в pytorch, нужно освоить три вещи: \n",
        "\n",
        "1. Как формировать батчи и пихать их в сетку\n",
        "2. Как сделать сетку\n",
        "3. Как написать цикл обучения"
      ]
    },
    {
      "cell_type": "markdown",
      "metadata": {
        "id": "GLpj3-UMfOmk"
      },
      "source": [
        "#### Как формировать батчи и пихать их в сетку\n",
        "\n",
        "Чтобы в данном фреймворке иметь возможность итерироваться по данным и применять к ним преобразования, например, аугментации, о которых вы узнаете позже -- нужно создать свой класс унаследованный от `torch.utils.data.Dataset`.\n",
        "\n",
        "Вот пример из документации:\n",
        "\n",
        "```\n",
        "class FaceLandmarksDataset(torch.utils.data.Dataset):\n",
        "    \"\"\"Face Landmarks dataset.\"\"\"\n",
        "\n",
        "    def __init__(self, csv_file, root_dir, transform=None):\n",
        "        \"\"\"\n",
        "        Args:\n",
        "            csv_file (string): Path to the csv file with annotations.\n",
        "            root_dir (string): Directory with all the images.\n",
        "            transform (callable, optional): Optional transform to be applied\n",
        "                on a sample.\n",
        "        \"\"\"\n",
        "        self.landmarks_frame = pd.read_csv(csv_file)\n",
        "        self.root_dir = root_dir\n",
        "        self.transform = transform\n",
        "\n",
        "    def __len__(self):\n",
        "        return len(self.landmarks_frame)\n",
        "\n",
        "    def __getitem__(self, idx):\n",
        "        if torch.is_tensor(idx):\n",
        "            idx = idx.tolist()\n",
        "\n",
        "        img_name = os.path.join(self.root_dir,\n",
        "                                self.landmarks_frame.iloc[idx, 0])\n",
        "        image = io.imread(img_name)\n",
        "        landmarks = self.landmarks_frame.iloc[idx, 1:]\n",
        "        landmarks = np.array([landmarks])\n",
        "        landmarks = landmarks.astype('float').reshape(-1, 2)\n",
        "        sample = {'image': image, 'landmarks': landmarks}\n",
        "\n",
        "        if self.transform:\n",
        "            sample = self.transform(sample)\n",
        "\n",
        "        return sample\n",
        "```\n",
        "\n",
        "Как вы видите, у такого класса должно быть два метода: \n",
        "\n",
        "* `__len__` -- возвращает информацию о том, сколько объектов у нас в датасете\n",
        "* `__getitem__` -- возвращает семпл и таргет к нему\n",
        "\n",
        "\n",
        "Теперь давайте напишем такой сами, в качестве датасета сгенерируем рандомные данные."
      ]
    },
    {
      "cell_type": "code",
      "execution_count": null,
      "metadata": {
        "id": "IyS2WKipfOmk"
      },
      "outputs": [],
      "source": [
        "class RandomDataset(torch.utils.data.Dataset):\n",
        "    \"\"\"Our random dataset\"\"\"\n",
        "\n",
        "    def __init__(self, x, y):\n",
        "        self.x = x\n",
        "        self.y = y\n",
        "\n",
        "    def __len__(self):\n",
        "        return len(self.x)\n",
        "\n",
        "    def __getitem__(self, idx):\n",
        "        return {\"sample\": torch.tensor(x[idx, :], dtype=torch.float), \"target\": y[idx]}"
      ]
    },
    {
      "cell_type": "code",
      "execution_count": null,
      "metadata": {
        "id": "YqplS9P9fOmk"
      },
      "outputs": [],
      "source": [
        "x = np.random.rand(1000, 5)\n",
        "y = np.random.rand(1000)"
      ]
    },
    {
      "cell_type": "code",
      "execution_count": null,
      "metadata": {
        "id": "oLGaEytnfOmk"
      },
      "outputs": [],
      "source": [
        "our_dataset = RandomDataset(x, y)"
      ]
    },
    {
      "cell_type": "code",
      "execution_count": null,
      "metadata": {
        "id": "G0h1xZIqfOml"
      },
      "outputs": [],
      "source": [
        "our_dataset.__getitem__(1)"
      ]
    },
    {
      "cell_type": "markdown",
      "metadata": {
        "id": "2-NplSEUfOml"
      },
      "source": [
        "Для того, чтобы из данных получать батчи в pytorch используется такая сущность как даталоадер, который принимает на вход класс унаследованный от `torch.utils.data.Dataset`. Сейчас посмотрим на пример:"
      ]
    },
    {
      "cell_type": "code",
      "execution_count": null,
      "metadata": {
        "id": "ZqkDKfh7fOml"
      },
      "outputs": [],
      "source": [
        "dataloader = torch.utils.data.DataLoader(our_dataset, batch_size=4)"
      ]
    },
    {
      "cell_type": "markdown",
      "metadata": {
        "id": "f9_TWdORfOml"
      },
      "source": [
        "Работают с ним следующим образом:"
      ]
    },
    {
      "cell_type": "code",
      "execution_count": null,
      "metadata": {
        "id": "viy_G2QJfOml"
      },
      "outputs": [],
      "source": [
        "for batch in dataloader:\n",
        "    batch_x = batch[\"sample\"]\n",
        "    batch_y = batch[\"target\"]\n",
        "    break\n",
        "print(\"Sample:\", batch_x)\n",
        "print(\"Target:\", batch_y)"
      ]
    },
    {
      "cell_type": "markdown",
      "metadata": {
        "id": "mSwtWd6ffOml"
      },
      "source": [
        "#### Как сделать сетку"
      ]
    },
    {
      "cell_type": "markdown",
      "metadata": {
        "id": "oo0fZH1JfOml"
      },
      "source": [
        "Для того, чтобы в high-level pytorch создавать нейросети используется модуль `nn`. Нейросеть должна быть унаследована от класса `nn.Module`. Пример как это может выглядеть:\n",
        "\n",
        "```\n",
        "class Model(nn.Module):\n",
        "    def __init__(self):\n",
        "        super(Model, self).__init__()\n",
        "        self.conv1 = nn.Conv2d(1, 20, 5)\n",
        "        self.conv2 = nn.Conv2d(20, 20, 5)\n",
        "\n",
        "    def forward(self, x):\n",
        "       x = F.relu(self.conv1(x))\n",
        "       return F.relu(self.conv2(x))\n",
        "```\n",
        "\n",
        "Как мы видим на данном примере, у данного класса должно быть метод `forward`, который определяет прямой проход нейросети. Также из класса выше видно, что модуль `nn` содержит в себе реализацию большинства слоев, а модуль `nn.functional` -- функций активаций.\n",
        "\n",
        "Есть еще один способ создать нейросеть и давайте его разберем на практике:"
      ]
    },
    {
      "cell_type": "code",
      "execution_count": null,
      "metadata": {
        "id": "C-XwWVihfOml"
      },
      "outputs": [],
      "source": [
        "model = nn.Sequential()  # создаем пустую модель, в которую будем добавлять слои\n",
        "model.add_module(\n",
        "    \"l1\", nn.Linear(5, 3)\n",
        ")  # добавили слой с 5-ю нейронами на вход и 3-мя на выход\n",
        "model.add_module(\"l2\", nn.ReLU())  # добавили функцию активации\n",
        "model.add_module(\n",
        "    \"l3\", nn.Linear(3, 1)\n",
        ")  # добавили слой с 3-мя нейронами на вход и 5-ю на выход"
      ]
    },
    {
      "cell_type": "code",
      "execution_count": null,
      "metadata": {
        "id": "n-82WHxVfOml"
      },
      "outputs": [],
      "source": [
        "y_pred = model(batch_x)  # получили предсказания модели"
      ]
    },
    {
      "cell_type": "markdown",
      "metadata": {
        "id": "cmRMS-GofOmm"
      },
      "source": [
        "#### Как написать цикл обучения\n",
        " \n",
        "Давайте теперь соберем теперь загрузку данных, создание модели и обучим на уже созданном для нас датасете MNIST"
      ]
    },
    {
      "cell_type": "code",
      "execution_count": null,
      "metadata": {
        "id": "tbfp7BgRfOmm"
      },
      "outputs": [],
      "source": [
        "mnist_train = torchvision.datasets.MNIST(\n",
        "    \"./mnist/\", train=True, download=True, transform=torchvision.transforms.ToTensor()\n",
        ")  # используем готовый класс от торча для загрузки данных для тренировки\n",
        "mnist_val = torchvision.datasets.MNIST(\n",
        "    \"./mnist/\", train=False, download=True, transform=torchvision.transforms.ToTensor()\n",
        ")  # используем готовый класс от торча для загрузки данных для валидации\n",
        "\n",
        "train_dataloader = torch.utils.data.DataLoader(\n",
        "    mnist_train, batch_size=4, shuffle=True, num_workers=1\n",
        ")  # так как это уже унаследованный от Dataset класс, его можно сразу пихать в даталоадер\n",
        "\n",
        "val_dataloader = torch.utils.data.DataLoader(\n",
        "    mnist_val, batch_size=4, shuffle=True, num_workers=1\n",
        ")  # так как это уже унаследованный от Dataset класс, его можно сразу пихать в даталоадер"
      ]
    },
    {
      "cell_type": "code",
      "execution_count": null,
      "metadata": {
        "id": "DgQaPB6vfOmm"
      },
      "outputs": [],
      "source": [
        "for i in [0, 1]:\n",
        "    plt.subplot(1, 2, i + 1)\n",
        "    plt.imshow(mnist_train[i][0].squeeze(0).numpy().reshape([28, 28]))\n",
        "    plt.title(str(mnist_train[i][1]))\n",
        "plt.show()"
      ]
    },
    {
      "cell_type": "code",
      "execution_count": null,
      "metadata": {
        "id": "bxF7m0aKfOmm"
      },
      "outputs": [],
      "source": [
        "model = nn.Sequential(\n",
        "    nn.Flatten(),  # превращаем картинку 28х28 в вектор размером 784\n",
        "    nn.Linear(784, 128),  # входной слой размером 784 нейронов с выходом в 128 нейронов\n",
        "    nn.ReLU(),  # функция активации релу\n",
        "    nn.Linear(128, 10),  # функция активации релу\n",
        "    nn.Softmax(\n",
        "        dim=-1\n",
        "    ),  # софтмакс для получения вероятностного распределения над метками класса\n",
        ")\n",
        "\n",
        "optimizer = torch.optim.SGD(\n",
        "    model.parameters(), lr=0.05\n",
        ")  # создаем оптимизатор и передаем туда параметры модели"
      ]
    },
    {
      "cell_type": "markdown",
      "metadata": {
        "id": "0yuM3r5ifOmm"
      },
      "source": [
        "Веса моделей хранятся в виде матриц и выглядят так:"
      ]
    },
    {
      "cell_type": "code",
      "execution_count": null,
      "metadata": {
        "scrolled": true,
        "id": "jTbVEwsBfOmm"
      },
      "outputs": [],
      "source": [
        "[x for x in model.named_parameters()]"
      ]
    },
    {
      "cell_type": "code",
      "execution_count": null,
      "metadata": {
        "id": "cAAJZ2jgfOmm"
      },
      "outputs": [],
      "source": [
        "for epoch in range(\n",
        "    11\n",
        "):  # всего у нас будет 10 эпох (10 раз подряд пройдемся по всем батчам из трейна)\n",
        "    for x_train, y_train in tqdm(train_dataloader):  # берем батч из трейн лоадера\n",
        "        y_pred = model(x_train)  # делаем предсказания\n",
        "        loss = nn.CrossEntropyLoss()(y_pred, y_train)  # считаем лосс\n",
        "        loss.backward()  # считаем градиенты обратным проходом\n",
        "        optimizer.step()  # обновляем параметры сети\n",
        "        optimizer.zero_grad()  # обнуляем посчитанные градиенты параметров\n",
        "\n",
        "    if epoch % 2 == 0:\n",
        "        mean_val_loss = []  # сюда будем складывать средний лосс по батчам\n",
        "        val_accuracy = []\n",
        "        with torch.no_grad():  # мы считаем качество, поэтому мы запрещаем фреймворку считать градиенты по параметрам\n",
        "            for x_val, y_val in tqdm(val_dataloader):  # берем батч из вал лоадера\n",
        "                y_pred = model(x_val)  # делаем предсказания\n",
        "                loss = nn.CrossEntropyLoss()(y_pred, y_val)  # считаем лосс\n",
        "                mean_val_loss.append(loss.numpy())  # добавляем в массив\n",
        "                val_accuracy.extend(\n",
        "                    (torch.argmax(y_pred, dim=-1) == y_val).numpy().tolist()\n",
        "                )\n",
        "        print(\n",
        "            \"Epoch: {epoch}, loss: {loss}, accuracy: {accuracy}\".format(\n",
        "                epoch=epoch, loss=np.mean(mean_val_loss), accuracy=np.mean(val_accuracy)\n",
        "            )\n",
        "        )  # выводим статистику"
      ]
    },
    {
      "cell_type": "markdown",
      "metadata": {
        "id": "7ekwKnUpfOmm"
      },
      "source": [
        "### Дополнительные материалы:\n",
        "\n",
        "* [Хорошая книга про pytorch](https://pytorch.org/assets/deep-learning/Deep-Learning-with-PyTorch.pdf)\n",
        "* [Использование pytorch на GPU](https://pytorch.org/docs/master/notes/cuda.html)\n",
        "* [Pytorch за 60 минут](http://pytorch.org/tutorials/beginner/deep_learning_60min_blitz.html)\n",
        "* [Как устроено автоматическое дифференцирование в pytorch](http://videolectures.net/site/normal_dl/tag=1129745/deeplearning2017_johnson_automatic_differentiation_01.pdf)"
      ]
    }
  ],
  "metadata": {
    "kernelspec": {
      "display_name": "Python 3",
      "language": "python",
      "name": "python3"
    },
    "language_info": {
      "codemirror_mode": {
        "name": "ipython",
        "version": 3
      },
      "file_extension": ".py",
      "mimetype": "text/x-python",
      "name": "python",
      "nbconvert_exporter": "python",
      "pygments_lexer": "ipython3",
      "version": "3.6.9"
    },
    "colab": {
      "provenance": []
    }
  },
  "nbformat": 4,
  "nbformat_minor": 0
}